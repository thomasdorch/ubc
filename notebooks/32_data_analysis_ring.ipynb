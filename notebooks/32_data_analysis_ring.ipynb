{
 "cells": [
  {
   "cell_type": "markdown",
   "metadata": {},
   "source": [
    "# Data analysis ring\n",
    "\n",
    "We analyze the following ring samples from the edx course\n",
    "\n",
    "Double-bus ring resonators\n",
    "symmetrically coupled\n",
    "\n",
    "TE:\n",
    "R = [3]\n",
    "g = [50, 100, 150]\n",
    "\n",
    "R = [10]\n",
    "g = [50, 100, 150, 200]\n",
    "\n",
    "TM:\n",
    "R = [30]\n",
    "g = [150, 200, 250]"
   ]
  },
  {
   "cell_type": "code",
   "execution_count": 1,
   "metadata": {
    "attributes": {
     "classes": [],
     "id": "",
     "n": "2"
    },
    "execution": {
     "iopub.execute_input": "2022-06-22T20:38:58.916214Z",
     "iopub.status.busy": "2022-06-22T20:38:58.915760Z",
     "iopub.status.idle": "2022-06-22T20:39:01.921355Z",
     "shell.execute_reply": "2022-06-22T20:39:01.920199Z"
    }
   },
   "outputs": [
    {
     "name": "stderr",
     "output_type": "stream",
     "text": [
      "2022-06-22 20:39:00.061 | INFO     | gdsfactory.config:<module>:52 - Load '/usr/share/miniconda/envs/anaconda-client-env/lib/python3.9/site-packages/gdsfactory' 5.10.15\n"
     ]
    },
    {
     "name": "stderr",
     "output_type": "stream",
     "text": [
      "2022-06-22 20:39:01.904 | INFO     | ubcpdk:<module>:36 - Found UBCpdk '1.6.4' installed at PosixPath('/home/runner/work/ubc/ubc/ubcpdk')\n"
     ]
    }
   ],
   "source": [
    "import matplotlib.pyplot as plt\n",
    "import numpy as np\n",
    "import ubcpdk"
   ]
  },
  {
   "cell_type": "code",
   "execution_count": 2,
   "metadata": {
    "attributes": {
     "classes": [],
     "id": "",
     "n": "3"
    },
    "execution": {
     "iopub.execute_input": "2022-06-22T20:39:01.927084Z",
     "iopub.status.busy": "2022-06-22T20:39:01.926406Z",
     "iopub.status.idle": "2022-06-22T20:39:02.092297Z",
     "shell.execute_reply": "2022-06-22T20:39:02.091588Z"
    }
   },
   "outputs": [
    {
     "data": {
      "text/plain": [
       "[<matplotlib.lines.Line2D at 0x7fce021d3c40>]"
      ]
     },
     "execution_count": 2,
     "metadata": {},
     "output_type": "execute_result"
    },
    {
     "data": {
      "image/png": "[encoded data removed]",
      "text/plain": [
       "<Figure size 432x288 with 1 Axes>"
      ]
     },
     "metadata": {
      "needs_background": "light"
     },
     "output_type": "display_data"
    }
   ],
   "source": [
    "w, p = ubcpdk.data.read_mat(ubcpdk.PATH.ring_te_r3_g100, port=0)\n",
    "plt.plot(w * 1e9, p)"
   ]
  },
  {
   "cell_type": "code",
   "execution_count": null,
   "metadata": {},
   "outputs": [],
   "source": []
  }
 ],
 "metadata": {
  "kernelspec": {
   "display_name": "Python 3 (ipykernel)",
   "language": "python",
   "name": "python3"
  },
  "language_info": {
   "codemirror_mode": {
    "name": "ipython",
    "version": 3
   },
   "file_extension": ".py",
   "mimetype": "text/x-python",
   "name": "python",
   "nbconvert_exporter": "python",
   "pygments_lexer": "ipython3",
   "version": "3.9.13"
  }
 },
 "nbformat": 4,
 "nbformat_minor": 4
}
